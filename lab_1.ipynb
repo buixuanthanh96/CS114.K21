{
  "nbformat": 4,
  "nbformat_minor": 0,
  "metadata": {
    "colab": {
      "name": "lab_1.ipynb",
      "provenance": [],
      "authorship_tag": "ABX9TyM2OFHTUJrgmVtXS1s9pmQY",
      "include_colab_link": true
    },
    "kernelspec": {
      "name": "python3",
      "display_name": "Python 3"
    }
  },
  "cells": [
    {
      "cell_type": "markdown",
      "metadata": {
        "id": "view-in-github",
        "colab_type": "text"
      },
      "source": [
        "<a href=\"https://colab.research.google.com/github/buixuanthanh96/CS114.K21/blob/master/lab_1.ipynb\" target=\"_parent\"><img src=\"https://colab.research.google.com/assets/colab-badge.svg\" alt=\"Open In Colab\"/></a>"
      ]
    },
    {
      "cell_type": "code",
      "metadata": {
        "id": "gggOxklBtF9i",
        "colab_type": "code",
        "colab": {
          "base_uri": "https://localhost:8080/",
          "height": 50
        },
        "outputId": "d6880299-d59e-4324-c1cf-87ede72bc9a9"
      },
      "source": [
        "f = float(input())\n",
        "c = ( f - 32.0 ) / 1.8\n",
        "k=  ( f + 459.67 ) / 1.8\n",
        "print (\"%.3f %.3f\" % (c, k))"
      ],
      "execution_count": 23,
      "outputs": [
        {
          "output_type": "stream",
          "text": [
            "658.4\n",
            "348.000 621.150\n"
          ],
          "name": "stdout"
        }
      ]
    }
  ]
}