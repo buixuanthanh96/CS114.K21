{
  "nbformat": 4,
  "nbformat_minor": 0,
  "metadata": {
    "colab": {
      "name": "lab_1.ipynb",
      "provenance": [],
      "authorship_tag": "ABX9TyMv3WJnHcJyQxml5OYbweL/",
      "include_colab_link": true
    },
    "kernelspec": {
      "name": "python3",
      "display_name": "Python 3"
    }
  },
  "cells": [
    {
      "cell_type": "markdown",
      "metadata": {
        "id": "view-in-github",
        "colab_type": "text"
      },
      "source": [
        "<a href=\"https://colab.research.google.com/github/buixuanthanh96/CS114.K21/blob/master/lab_1.ipynb\" target=\"_parent\"><img src=\"https://colab.research.google.com/assets/colab-badge.svg\" alt=\"Open In Colab\"/></a>"
      ]
    },
    {
      "cell_type": "code",
      "metadata": {
        "id": "gggOxklBtF9i",
        "colab_type": "code",
        "colab": {}
      },
      "source": [
        "f = float(input())\n",
        "c = round(( f - 32.0 ) / 1.8, 3)\n",
        "k=  round(( f -32.0 ) / 1.8 + 273.15, 3)\n",
        "if(c==int(c)):\n",
        "  c=int(c)\n",
        "if(k==int(k)):\n",
        "  k=int(k)\n",
        "print (c, k)"
      ],
      "execution_count": 0,
      "outputs": []
    }
  ]
}