{
  "nbformat": 4,
  "nbformat_minor": 0,
  "metadata": {
    "colab": {
      "name": "bai2.ipynb",
      "provenance": [],
      "collapsed_sections": [],
      "authorship_tag": "ABX9TyMRUDRU6byvLcUghe8tic5Q",
      "include_colab_link": true
    },
    "kernelspec": {
      "name": "python3",
      "display_name": "Python 3"
    }
  },
  "cells": [
    {
      "cell_type": "markdown",
      "metadata": {
        "id": "view-in-github",
        "colab_type": "text"
      },
      "source": [
        "<a href=\"https://colab.research.google.com/github/buixuanthanh96/CS114.K21/blob/master/bai2.ipynb\" target=\"_parent\"><img src=\"https://colab.research.google.com/assets/colab-badge.svg\" alt=\"Open In Colab\"/></a>"
      ]
    },
    {
      "cell_type": "code",
      "metadata": {
        "id": "t0UZrXyKzkDj",
        "colab_type": "code",
        "outputId": "7043fd70-6853-4761-d986-2686a6372223",
        "colab": {
          "base_uri": "https://localhost:8080/",
          "height": 185
        }
      },
      "source": [
        "\n",
        "import numpy as np # linear algebra\n",
        "import pandas as pd\n",
        "from sklearn.model_selection import train_test_split\n",
        "from sklearn.linear_model import LinearRegression\n",
        "\n",
        "\n",
        "\n",
        "#Lấy dữ liệu xuống\n",
        "print(\"*** LOAD DATASET ***\")\n",
        "dataset = np.array(pd.read_csv('http://cs.uit.edu.vn/data2.txt'))\n",
        "\n",
        "\n",
        "extracted_dataset= []\n",
        "target = []\n",
        "\n",
        "# extract target column\n",
        "for row in dataset:\n",
        "    extracted_dataset.append(row[0:1])\n",
        "    target.append(row[1:2])\n",
        "\n",
        "\n",
        "\n",
        "X_train, X_test, Y_train, Y_test= train_test_split(extracted_dataset,target,test_size=0.2)\n",
        "\n",
        "\n",
        "print(\"*** DATASET PARTITIONED IN TRAIN: \"+str(len(X_train))+ \" TEST: \"+str(len(X_test)))\n",
        "#chọn model và train\n",
        "regression = LinearRegression()\n",
        "regression.fit(X_train, Y_train)\n",
        "print(\"*** TRAINING END ***\")\n",
        "\n",
        "#thực hiện việc predict cho mẫu dữ liệu mới\n",
        "predicted = regression.predict(X_test)\n",
        "print(predicted)\n"
      ],
      "execution_count": 0,
      "outputs": [
        {
          "output_type": "stream",
          "text": [
            "*** LOAD DATASET ***\n",
            "*** DATASET PARTITIONED IN TRAIN: 56891 TEST: 14223\n",
            "*** TRAINING END ***\n",
            "[[0.34746626]\n",
            " [0.5077584 ]\n",
            " [0.41722765]\n",
            " ...\n",
            " [0.38133383]\n",
            " [0.13839439]\n",
            " [0.16712499]]\n"
          ],
          "name": "stdout"
        }
      ]
    }
  ]
}