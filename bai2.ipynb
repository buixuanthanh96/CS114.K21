{
  "nbformat": 4,
  "nbformat_minor": 0,
  "metadata": {
    "colab": {
      "name": "bai2.ipynb",
      "provenance": [],
      "collapsed_sections": [],
      "authorship_tag": "ABX9TyO2+JTSWw2GSCkEMjFHkToT",
      "include_colab_link": true
    },
    "kernelspec": {
      "name": "python3",
      "display_name": "Python 3"
    }
  },
  "cells": [
    {
      "cell_type": "markdown",
      "metadata": {
        "id": "view-in-github",
        "colab_type": "text"
      },
      "source": [
        "<a href=\"https://colab.research.google.com/github/buixuanthanh96/CS114.K21/blob/master/bai2.ipynb\" target=\"_parent\"><img src=\"https://colab.research.google.com/assets/colab-badge.svg\" alt=\"Open In Colab\"/></a>"
      ]
    },
    {
      "cell_type": "code",
      "metadata": {
        "id": "t0UZrXyKzkDj",
        "colab_type": "code",
        "colab": {
          "base_uri": "https://localhost:8080/",
          "height": 218
        },
        "outputId": "8957c87f-c3af-45d6-c77f-13a1d0d4c5ed"
      },
      "source": [
        "\n",
        "import numpy as np # linear algebra\n",
        "import pandas as pd\n",
        "from sklearn.model_selection import train_test_split\n",
        "from sklearn.linear_model import LinearRegression\n",
        "\n",
        "\n",
        "\n",
        "#Lấy dữ liệu xuống\n",
        "print(\"*** LOAD DATASET ***\")\n",
        "dataset = np.array(pd.read_csv('http://cs.uit.edu.vn/data2.txt'))\n",
        "\n",
        "\n",
        "extracted_dataset= []\n",
        "target = []\n",
        "\n",
        "# extract target column\n",
        "for row in dataset:\n",
        "    extracted_dataset.append(row[0:1])\n",
        "    target.append(row[1:2])\n",
        "\n",
        "\n",
        "\n",
        "X_train, X_test, Y_train, Y_test= train_test_split(extracted_dataset,target,test_size=0.2)\n",
        "\n",
        "\n",
        "print(\"*** DATASET PARTITIONED IN TRAIN: \"+str(len(X_train))+ \" TEST: \"+str(len(X_test)))\n",
        "#chọn model và train\n",
        "regression = LinearRegression()\n",
        "regression.fit(X_train, Y_train)\n",
        "print(\"*** TRAINING END ***\")\n",
        "\n",
        "#thực hiện việc predict cho mẫu dữ liệu mới\n",
        "predicted = regression.predict(X_test)\n",
        "print(k)\n",
        "print(predicted)\n",
        "#\n",
        "print(\"Khả năng dự đoán của ứng dụng là tốt :\")\n",
        "print( \"accuracy: \", regression.score(X_train, Y_train))"
      ],
      "execution_count": 20,
      "outputs": [
        {
          "output_type": "stream",
          "text": [
            "*** LOAD DATASET ***\n",
            "*** DATASET PARTITIONED IN TRAIN: 56891 TEST: 14223\n",
            "*** TRAINING END ***\n",
            "[[0.10590323]\n",
            " [0.12243561]\n",
            " [0.66982181]\n",
            " ...\n",
            " [0.35296407]\n",
            " [0.19402541]\n",
            " [0.78465414]]\n",
            "Khả năng dự đoán của ứng dụng là tốt :\n",
            "accuracy:  0.9976174582503894\n"
          ],
          "name": "stdout"
        }
      ]
    }
  ]
}