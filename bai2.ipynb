{
  "nbformat": 4,
  "nbformat_minor": 0,
  "metadata": {
    "colab": {
      "name": "bai2.ipynb",
      "provenance": [],
      "collapsed_sections": [],
      "authorship_tag": "ABX9TyNUVk/tDdURPGdZiqaNbCbd",
      "include_colab_link": true
    },
    "kernelspec": {
      "name": "python3",
      "display_name": "Python 3"
    }
  },
  "cells": [
    {
      "cell_type": "markdown",
      "metadata": {
        "id": "view-in-github",
        "colab_type": "text"
      },
      "source": [
        "<a href=\"https://colab.research.google.com/github/buixuanthanh96/CS114.K21/blob/master/bai2.ipynb\" target=\"_parent\"><img src=\"https://colab.research.google.com/assets/colab-badge.svg\" alt=\"Open In Colab\"/></a>"
      ]
    },
    {
      "cell_type": "code",
      "metadata": {
        "id": "t0UZrXyKzkDj",
        "colab_type": "code",
        "outputId": "5e017eb8-9cb7-4cbb-fab2-39ab64781de3",
        "colab": {
          "base_uri": "https://localhost:8080/",
          "height": 218
        }
      },
      "source": [
        "\n",
        "import numpy as np # linear algebra\n",
        "import pandas as pd\n",
        "from sklearn.model_selection import train_test_split\n",
        "from sklearn.linear_model import LinearRegression\n",
        "\n",
        "\n",
        "\n",
        "#Lấy dữ liệu xuống\n",
        "print(\"*** tải dữ liệu ***\")\n",
        "dataset = np.array(pd.read_csv('http://cs.uit.edu.vn/data2.txt'))\n",
        "\n",
        "\n",
        "extracted_dataset= []\n",
        "target = []\n",
        "\n",
        "# trích xuất mục tiêu(thời gian)\n",
        "for row in dataset:\n",
        "    extracted_dataset.append(row[0:1])\n",
        "    target.append(row[1:2])\n",
        "\n",
        "#chia dữ liệu train/test với tỉ lệ 80/20\n",
        "X_train, X_test, Y_train, Y_test= train_test_split(extracted_dataset,target,test_size=0.2)\n",
        "print(\"*** Chia dữ liệu. TRAIN: \"+str(len(X_train))+ \" TEST: \"+str(len(X_test)))\n",
        "\n",
        "#chọn model và train\n",
        "regression = LinearRegression()\n",
        "regression.fit(X_train, Y_train)\n",
        "print(\"*** TRAINING END ***\")\n",
        "\n",
        "#thực hiện việc predict cho mẫu dữ liệu mới\n",
        "print(\"***thực hiện việc predict cho mẫu dữ liệu mới***\")\n",
        "predicted = regression.predict(X_test)\n",
        "id = 0\n",
        "print(\"kích thước\\t thời gian mẫu\\t thời gian dự đoán\")\n",
        "for i in X_test:\n",
        "    print(int(X_test[id]),\"\\t\",float(Y_test[id]),\"\\t\",float(predicted[id]))\n",
        "    id+=1\n",
        "    if(id==5):\n",
        "      break;\n",
        "\n",
        "print(\"Khả năng dự đoán của ứng dụng là tốt :\")\n",
        "print( \"accuracy: \", regression.score(X_train, Y_train))"
      ],
      "execution_count": 54,
      "outputs": [
        {
          "output_type": "stream",
          "text": [
            "*** tải dữ liệu ***\n",
            "*** Chia dữ liệu. TRAIN: 56891 TEST: 14223\n",
            "*** TRAINING END ***\n",
            "***thực hiện việc predict cho mẫu dữ liệu mới***\n",
            "kích thước\t thời gian mẫu\t thời gian dự đoán\n",
            "3045275 \t 0.239734 \t 0.24162668675640148\n",
            "7594432 \t 0.624319 \t 0.6262827118643042\n",
            "3270208 \t 0.263998 \t 0.26064599817950596\n",
            "2107315 \t 0.166383 \t 0.16231705525539844\n",
            "5783870 \t 0.465049 \t 0.4731898240762119\n",
            "Khả năng dự đoán của ứng dụng là tốt :\n",
            "accuracy:  0.9976041631585234\n"
          ],
          "name": "stdout"
        }
      ]
    }
  ]
}