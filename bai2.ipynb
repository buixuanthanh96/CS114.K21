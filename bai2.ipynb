{
  "nbformat": 4,
  "nbformat_minor": 0,
  "metadata": {
    "colab": {
      "name": "bai2.ipynb",
      "provenance": [],
      "collapsed_sections": [],
      "authorship_tag": "ABX9TyNPCfdvOEMHEwd7N5kO6aEh",
      "include_colab_link": true
    },
    "kernelspec": {
      "name": "python3",
      "display_name": "Python 3"
    }
  },
  "cells": [
    {
      "cell_type": "markdown",
      "metadata": {
        "id": "view-in-github",
        "colab_type": "text"
      },
      "source": [
        "<a href=\"https://colab.research.google.com/github/buixuanthanh96/CS114.K21/blob/master/bai2.ipynb\" target=\"_parent\"><img src=\"https://colab.research.google.com/assets/colab-badge.svg\" alt=\"Open In Colab\"/></a>"
      ]
    },
    {
      "cell_type": "code",
      "metadata": {
        "id": "t0UZrXyKzkDj",
        "colab_type": "code",
        "outputId": "569cc2c5-5308-4d7d-af4b-3383346a67d9",
        "colab": {
          "base_uri": "https://localhost:8080/",
          "height": 235
        }
      },
      "source": [
        "\n",
        "import numpy as np # linear algebra\n",
        "import pandas as pd\n",
        "from sklearn.model_selection import train_test_split\n",
        "from sklearn.linear_model import LinearRegression\n",
        "\n",
        "\n",
        "\n",
        "#Lấy dữ liệu xuống\n",
        "print(\"*** tải dữ liệu ***\")\n",
        "dataset = np.array(pd.read_csv('http://cs.uit.edu.vn/data2.txt'))\n",
        "\n",
        "\n",
        "extracted_dataset= []\n",
        "target = []\n",
        "\n",
        "# trích xuất mục tiêu(thời gian)\n",
        "for row in dataset:\n",
        "    extracted_dataset.append(row[0:1])\n",
        "    target.append(row[1:2])\n",
        "\n",
        "#chia dữ liệu train/test với tỉ lệ 80/20\n",
        "X_train, X_test, Y_train, Y_test= train_test_split(extracted_dataset,target,test_size=0.2)\n",
        "print(\"*** Chia dữ liệu. TRAIN: \"+str(len(X_train))+ \" TEST: \"+str(len(X_test)))\n",
        "\n",
        "#chọn model và train\n",
        "regression = LinearRegression()\n",
        "regression.fit(X_train, Y_train)\n",
        "print(\"*** TRAINING END ***\")\n",
        "\n",
        "#thực hiện việc predict cho mẫu dữ liệu mới\n",
        "print(\"***thực hiện việc predict cho mẫu dữ liệu mới***\")\n",
        "predicted = regression.predict(X_test)\n",
        "id = 0\n",
        "print(\"kích thước\\t thời gian mẫu\\t thời gian dự đoán\")\n",
        "for i in X_test:\n",
        "    print(int(X_test[id]),\"\\t\",float(Y_test[id]),\"\\t\",float(predicted[id]))\n",
        "    id+=1\n",
        "    if(id==5):\n",
        "      break;\n",
        "\n",
        "print(\"Khả năng dự đoán của ứng dụng là tốt \")\n",
        "print( \"do Mean Absolute Percentage Error (MAPE) là sai số phần trăm trung bình thấp \")\n",
        "print( \"MAPE = \",sklearn.metrics.mean_absolute_error(Y_test, predicted)*100,\"%\")"
      ],
      "execution_count": 0,
      "outputs": [
        {
          "output_type": "stream",
          "text": [
            "*** tải dữ liệu ***\n",
            "*** Chia dữ liệu. TRAIN: 56891 TEST: 14223\n",
            "*** TRAINING END ***\n",
            "***thực hiện việc predict cho mẫu dữ liệu mới***\n",
            "kích thước\t thời gian mẫu\t thời gian dự đoán\n",
            "2701042 \t 0.207889 \t 0.21253472318994615\n",
            "479829 \t 0.033023699999999996 \t 0.024726007950728643\n",
            "546861 \t 0.0367601 \t 0.030393719151732432\n",
            "5781722 \t 0.47183 \t 0.4730133683550665\n",
            "9763180 \t 0.8344469999999999 \t 0.8096548843910812\n",
            "Khả năng dự đoán của ứng dụng là tốt \n",
            "do Mean Absolute Percentage Error (MAPE) là sai số phần trăm trung bình thấp \n",
            "MAPE =  0.8230121143608549 %\n"
          ],
          "name": "stdout"
        }
      ]
    }
  ]
}