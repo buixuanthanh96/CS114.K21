{
  "nbformat": 4,
  "nbformat_minor": 0,
  "metadata": {
    "colab": {
      "name": "bai2.ipynb",
      "provenance": [],
      "collapsed_sections": [],
      "authorship_tag": "ABX9TyMIQwueAwMhFCpjrUsDjNES",
      "include_colab_link": true
    },
    "kernelspec": {
      "name": "python3",
      "display_name": "Python 3"
    }
  },
  "cells": [
    {
      "cell_type": "markdown",
      "metadata": {
        "id": "view-in-github",
        "colab_type": "text"
      },
      "source": [
        "<a href=\"https://colab.research.google.com/github/buixuanthanh96/CS114.K21/blob/master/bai2.ipynb\" target=\"_parent\"><img src=\"https://colab.research.google.com/assets/colab-badge.svg\" alt=\"Open In Colab\"/></a>"
      ]
    },
    {
      "cell_type": "code",
      "metadata": {
        "id": "t0UZrXyKzkDj",
        "colab_type": "code",
        "colab": {
          "base_uri": "https://localhost:8080/",
          "height": 202
        },
        "outputId": "026bfee8-188e-4a10-a672-310eeb167fcd"
      },
      "source": [
        "\n",
        "import numpy as np # linear algebra\n",
        "import pandas as pd\n",
        "from sklearn.model_selection import train_test_split\n",
        "from sklearn.linear_model import LinearRegression\n",
        "\n",
        "\n",
        "\n",
        "#Lấy dữ liệu xuống\n",
        "print(\"*** LOAD DATASET ***\")\n",
        "dataset = np.array(pd.read_csv('http://cs.uit.edu.vn/data2.txt'))\n",
        "\n",
        "\n",
        "extracted_dataset= []\n",
        "target = []\n",
        "\n",
        "# extract target column\n",
        "for row in dataset:\n",
        "    extracted_dataset.append(row[0:1])\n",
        "    target.append(row[1:2])\n",
        "\n",
        "\n",
        "\n",
        "X_train, X_test, Y_train, Y_test= train_test_split(extracted_dataset,target,test_size=0.2)\n",
        "\n",
        "\n",
        "print(\"*** DATASET PARTITIONED IN TRAIN: \"+str(len(X_train))+ \" TEST: \"+str(len(X_test)))\n",
        "#chọn model và train\n",
        "regression = LinearRegression()\n",
        "regression.fit(X_train, Y_train)\n",
        "print(\"*** TRAINING END ***\")\n",
        "\n",
        "#thực hiện việc predict cho mẫu dữ liệu mới\n",
        "predicted = regression.predict(X_test)\n",
        "print(regression.score(X_test, Y_test))\n",
        "print(predicted)\n"
      ],
      "execution_count": 17,
      "outputs": [
        {
          "output_type": "stream",
          "text": [
            "*** LOAD DATASET ***\n",
            "*** DATASET PARTITIONED IN TRAIN: 56891 TEST: 14223\n",
            "*** TRAINING END ***\n",
            "0.997662007756411\n",
            "[[0.01975646]\n",
            " [0.02886642]\n",
            " [0.2359127 ]\n",
            " ...\n",
            " [0.22091168]\n",
            " [0.74002625]\n",
            " [0.51155373]]\n"
          ],
          "name": "stdout"
        }
      ]
    }
  ]
}