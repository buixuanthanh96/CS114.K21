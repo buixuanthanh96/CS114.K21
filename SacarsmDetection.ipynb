{
  "nbformat": 4,
  "nbformat_minor": 0,
  "metadata": {
    "colab": {
      "name": "SacarsmDetection.ipynb",
      "provenance": [],
      "authorship_tag": "ABX9TyPRxeDhCTG8zusCPOClkIBR",
      "include_colab_link": true
    },
    "kernelspec": {
      "name": "python3",
      "display_name": "Python 3"
    }
  },
  "cells": [
    {
      "cell_type": "markdown",
      "metadata": {
        "id": "view-in-github",
        "colab_type": "text"
      },
      "source": [
        "<a href=\"https://colab.research.google.com/github/buixuanthanh96/CS114.K21/blob/master/SacarsmDetection.ipynb\" target=\"_parent\"><img src=\"https://colab.research.google.com/assets/colab-badge.svg\" alt=\"Open In Colab\"/></a>"
      ]
    },
    {
      "cell_type": "code",
      "metadata": {
        "id": "FTYpNv6ax-ea",
        "colab_type": "code",
        "colab": {
          "base_uri": "https://localhost:8080/",
          "height": 117
        },
        "outputId": "1ff02ee7-e439-4103-f953-674202467b64"
      },
      "source": [
        "!git clone https://github.com/buixuanthanh96/SacarsmDetection.git"
      ],
      "execution_count": 1,
      "outputs": [
        {
          "output_type": "stream",
          "text": [
            "Cloning into 'SacarsmDetection'...\n",
            "remote: Enumerating objects: 20, done.\u001b[K\n",
            "remote: Counting objects: 100% (20/20), done.\u001b[K\n",
            "remote: Compressing objects: 100% (18/18), done.\u001b[K\n",
            "remote: Total 20 (delta 4), reused 0 (delta 0), pack-reused 0\u001b[K\n",
            "Unpacking objects: 100% (20/20), done.\n"
          ],
          "name": "stdout"
        }
      ]
    },
    {
      "cell_type": "code",
      "metadata": {
        "id": "igjOYneJyEaw",
        "colab_type": "code",
        "colab": {
          "base_uri": "https://localhost:8080/",
          "height": 150
        },
        "outputId": "694794b5-9c96-4276-ed97-98899b8a2d18"
      },
      "source": [
        "import nltk\n",
        "nltk.download('averaged_perceptron_tagger')\n",
        "nltk.download('wordnet')\n",
        "nltk.download('stopwords')"
      ],
      "execution_count": 2,
      "outputs": [
        {
          "output_type": "stream",
          "text": [
            "[nltk_data] Downloading package averaged_perceptron_tagger to\n",
            "[nltk_data]     /root/nltk_data...\n",
            "[nltk_data]   Unzipping taggers/averaged_perceptron_tagger.zip.\n",
            "[nltk_data] Downloading package wordnet to /root/nltk_data...\n",
            "[nltk_data]   Unzipping corpora/wordnet.zip.\n",
            "[nltk_data] Downloading package stopwords to /root/nltk_data...\n",
            "[nltk_data]   Unzipping corpora/stopwords.zip.\n"
          ],
          "name": "stdout"
        },
        {
          "output_type": "execute_result",
          "data": {
            "text/plain": [
              "True"
            ]
          },
          "metadata": {
            "tags": []
          },
          "execution_count": 2
        }
      ]
    },
    {
      "cell_type": "code",
      "metadata": {
        "id": "upeJ1dCXyGAv",
        "colab_type": "code",
        "colab": {}
      },
      "source": [
        "import pandas as pd\n",
        "import string, re, nltk\n",
        "from nltk.corpus import wordnet\n",
        "from nltk.stem import WordNetLemmatizer\n",
        "from nltk.corpus import stopwords\n",
        "\n",
        "def getPOS(word):\n",
        "    tag = nltk.pos_tag([word])[0][1][0].upper()#xác định loại từ\n",
        "    tag_dict = {\"J\": wordnet.ADJ,\n",
        "                \"N\": wordnet.NOUN,\n",
        "                \"V\": wordnet.VERB,\n",
        "                \"R\": wordnet.ADV}\n",
        "    return tag_dict.get(tag, wordnet.NOUN) #trả về dưới dạng danh từ\n",
        "\n",
        "path = \"SacarsmDetection/input/\"\n",
        "input = pd.read_json(path + 'Sarcasm_Headlines_Dataset.json', lines=True)\n",
        "input = input.drop(columns = [\"article_link\"])\n",
        "\n",
        "lemmatizer = WordNetLemmatizer()\n",
        "headlinesPP = []\n",
        "for index, row in input.iterrows():\n",
        "    row[\"headline\"] = row[\"headline\"].translate(str.maketrans('', '', string.punctuation)) #Loại bỏ dấu câu\n",
        "    row[\"headline\"] = row[\"headline\"].translate(str.maketrans('', '', string.digits)) #Loại bỏ kí tự số\n",
        "    #row[\"headline\"] = ' '.join([word for word in row[\"headline\"].split() if word not in (stopwords.words('english'))])#loại bỏ stopwords\n",
        "    tokenList = re.sub(\"[^\\S]\", \" \",  row[\"headline\"]).split() #tách chuỗi thành các token\n",
        "    #tokenList = nltk.word_tokenize(row[\"headline\"])\n",
        "    for i in range(0, len(tokenList)): #lemmatization\n",
        "        tokenList[i] = lemmatizer.lemmatize(tokenList[i], getPOS(tokenList[i]))#chuyển từ về dạng nguyên mẫu\n",
        "    headlinesPP.append(tokenList)\n",
        "dataPP = pd.DataFrame(data = {'headline': headlinesPP, 'is_sarcastic': input[\"is_sarcastic\"]} )\n",
        "dataPP.to_csv(path+'dataPostProcessed.csv')"
      ],
      "execution_count": 3,
      "outputs": []
    },
    {
      "cell_type": "code",
      "metadata": {
        "id": "wYgYKBU2yUHn",
        "colab_type": "code",
        "colab": {}
      },
      "source": [
        "import pandas as pd\n",
        "import string, re, nltk\n",
        "from nltk.corpus import wordnet\n",
        "from nltk.stem import WordNetLemmatizer\n",
        "from nltk.corpus import stopwords\n",
        "\n",
        "def getPOS(word):\n",
        "    tag = nltk.pos_tag([word])[0][1][0].upper()#xác định loại từ\n",
        "    tag_dict = {\"J\": wordnet.ADJ,\n",
        "                \"N\": wordnet.NOUN,\n",
        "                \"V\": wordnet.VERB,\n",
        "                \"R\": wordnet.ADV}\n",
        "    return tag_dict.get(tag, wordnet.NOUN) #trả về dưới dạng danh từ\n",
        "\n",
        "path = \"SacarsmDetection/input/\"\n",
        "input = pd.read_json(path + 'new_Sarcasm_Headlines_Dataset.json', lines=True)\n",
        "input = input.drop(columns = [\"article_link\"])\n",
        "\n",
        "lemmatizer = WordNetLemmatizer()\n",
        "headlinesPP = []\n",
        "for index, row in input.iterrows():\n",
        "    row[\"headline\"] = row[\"headline\"].translate(str.maketrans('', '', string.punctuation)) #Loại bỏ dấu câu\n",
        "    row[\"headline\"] = row[\"headline\"].translate(str.maketrans('', '', string.digits)) #Loại bỏ kí tự số\n",
        "    #row[\"headline\"] = ' '.join([word for word in row[\"headline\"].split() if word not in (stopwords.words('english'))])#loại bỏ stopwords\n",
        "    tokenList = re.sub(\"[^\\S]\", \" \",  row[\"headline\"]).split() #tách chuỗi thành các token\n",
        "    #tokenList = nltk.word_tokenize(row[\"headline\"])\n",
        "    for i in range(0, len(tokenList)): #lemmatization\n",
        "        tokenList[i] = lemmatizer.lemmatize(tokenList[i], getPOS(tokenList[i]))#chuyển từ về dạng nguyên mẫu\n",
        "    headlinesPP.append(tokenList)\n",
        "dataPP = pd.DataFrame(data = {'headline': headlinesPP, 'is_sarcastic': input[\"is_sarcastic\"]} )\n",
        "dataPP.to_csv(path+'new_dataPostProcessed.csv')"
      ],
      "execution_count": 4,
      "outputs": []
    },
    {
      "cell_type": "code",
      "metadata": {
        "id": "uZ1QrWRUyfn3",
        "colab_type": "code",
        "colab": {
          "base_uri": "https://localhost:8080/",
          "height": 301
        },
        "outputId": "f05e8616-91b1-4536-9fc7-2a65a1ba0491"
      },
      "source": [
        "import pandas as pd\n",
        "from sklearn.pipeline import Pipeline\n",
        "from sklearn.feature_extraction.text import TfidfVectorizer\n",
        "from sklearn.svm import LinearSVC\n",
        "from sklearn.neural_network import MLPClassifier\n",
        "from sklearn.ensemble import RandomForestClassifier\n",
        "from sklearn.metrics import confusion_matrix, classification_report\n",
        "from sklearn.neighbors import KNeighborsClassifier\n",
        "from sklearn import metrics\n",
        "from sklearn.model_selection import train_test_split\n",
        "\n",
        "path = \"SacarsmDetection/input/\"\n",
        "input = pd.read_csv(path + 'dataPostProcessed.csv', index_col=0)\n",
        "X = input['headline']#.append(df['headline'])\n",
        "Y = input['is_sarcastic']#.append(df['is_sarcastic'])\n",
        "\n",
        "new_input = pd.read_csv(path + 'new_dataPostProcessed.csv', index_col=0)\n",
        "X_new_test = new_input['headline']#.append(df['headline'])\n",
        "Y_new_test = new_input['is_sarcastic']#.append(df['is_sarcastic'])\n",
        "\n",
        "\n",
        "\n",
        "xTrain, xTest, yTrain, yTest = train_test_split(X, Y, test_size=0.1)\n",
        "print(\"*** DATASET PARTITIONED IN TRAIN: \"+str(len(xTrain))+ \" TEST: \"+str(len(xTest)))\n",
        "classifiers = [\n",
        "    Pipeline([('tfidf', TfidfVectorizer()), ('classifier', LinearSVC())]),\n",
        "    Pipeline([('tfidf', TfidfVectorizer()), ('classifier', MLPClassifier(hidden_layer_sizes=(90,90), random_state=42, solver='lbfgs'))]),\n",
        "    Pipeline([('tfidf', TfidfVectorizer()), ('classifier', RandomForestClassifier())]),\n",
        "    Pipeline([('tfidf', TfidfVectorizer()), ('classifier', KNeighborsClassifier(n_neighbors=2))]),\n",
        "    ]\n",
        "    \n",
        "for classifier in classifiers:\n",
        "    classifier.fit(xTrain, yTrain)\n",
        "    print(\"###### \" + classifier.named_steps.get(\"classifier\").__class__.__name__ + \" ############\")\n",
        "    # print(\"\\nTraining: \" + str(classifier.score(xTrain, yTrain).round(3)))\n",
        "    # print(\"Test: \" + str(classifier.score(xTest, yTest).round(3)) +\"\\n\")\n",
        "    prediction = classifier.predict(xTest)\n",
        "    prediction_new = classifier.predict(X_new_test)\n",
        "    #print(confusion_matrix(yTest, prediction))\n",
        "    #print(classification_report(yTest, prediction))\n",
        "    print(\"accuracy out: \",metrics.accuracy_score(yTest, prediction))\n",
        "    print(\"accuracy new: \",metrics.accuracy_score(Y_new_test, prediction_new))\n",
        "    prediction1 = classifier.predict( ['courtroom sketch artist clear manga influence'])\n",
        "    print(\"courtroom sketch artist clear manga influence: \",prediction1)"
      ],
      "execution_count": 5,
      "outputs": [
        {
          "output_type": "stream",
          "text": [
            "*** DATASET PARTITIONED IN TRAIN: 24038 TEST: 2671\n",
            "###### LinearSVC ############\n",
            "accuracy out:  0.8390116061400225\n",
            "accuracy new:  0.7235\n",
            "courtroom sketch artist clear manga influence:  [1]\n",
            "###### MLPClassifier ############\n",
            "accuracy out:  0.7712467240733808\n",
            "accuracy new:  0.642\n",
            "courtroom sketch artist clear manga influence:  [0]\n",
            "###### RandomForestClassifier ############\n",
            "accuracy out:  0.8157993260950954\n",
            "accuracy new:  0.693\n",
            "courtroom sketch artist clear manga influence:  [1]\n",
            "###### KNeighborsClassifier ############\n",
            "accuracy out:  0.6798951703481843\n",
            "accuracy new:  0.563\n",
            "courtroom sketch artist clear manga influence:  [1]\n"
          ],
          "name": "stdout"
        }
      ]
    }
  ]
}