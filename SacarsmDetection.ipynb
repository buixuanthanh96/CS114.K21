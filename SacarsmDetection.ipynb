{
  "nbformat": 4,
  "nbformat_minor": 0,
  "metadata": {
    "colab": {
      "name": "SacarsmDetection.ipynb",
      "provenance": [],
      "authorship_tag": "ABX9TyNpRXVqZ0brWyka832WKmm2",
      "include_colab_link": true
    },
    "kernelspec": {
      "name": "python3",
      "display_name": "Python 3"
    }
  },
  "cells": [
    {
      "cell_type": "markdown",
      "metadata": {
        "id": "view-in-github",
        "colab_type": "text"
      },
      "source": [
        "<a href=\"https://colab.research.google.com/github/buixuanthanh96/CS114.K21/blob/master/SacarsmDetection.ipynb\" target=\"_parent\"><img src=\"https://colab.research.google.com/assets/colab-badge.svg\" alt=\"Open In Colab\"/></a>"
      ]
    },
    {
      "cell_type": "markdown",
      "metadata": {
        "id": "RfKl2rcd57R-",
        "colab_type": "text"
      },
      "source": [
        ""
      ]
    },
    {
      "cell_type": "code",
      "metadata": {
        "id": "zHixmwpn8qf1",
        "colab_type": "code",
        "colab": {
          "base_uri": "https://localhost:8080/",
          "height": 167
        },
        "outputId": "282f01a4-f4b6-4a26-bc49-ae8638044cfc"
      },
      "source": [
        "import nltk\n",
        "nltk.download('averaged_perceptron_tagger')\n",
        "nltk.download('wordnet')\n",
        "nltk.download('stopwords')"
      ],
      "execution_count": 40,
      "outputs": [
        {
          "output_type": "stream",
          "text": [
            "[nltk_data] Downloading package averaged_perceptron_tagger to\n",
            "[nltk_data]     /root/nltk_data...\n",
            "[nltk_data]   Package averaged_perceptron_tagger is already up-to-\n",
            "[nltk_data]       date!\n",
            "[nltk_data] Downloading package wordnet to /root/nltk_data...\n",
            "[nltk_data]   Package wordnet is already up-to-date!\n",
            "[nltk_data] Downloading package stopwords to /root/nltk_data...\n",
            "[nltk_data]   Unzipping corpora/stopwords.zip.\n"
          ],
          "name": "stdout"
        },
        {
          "output_type": "execute_result",
          "data": {
            "text/plain": [
              "True"
            ]
          },
          "metadata": {
            "tags": []
          },
          "execution_count": 40
        }
      ]
    },
    {
      "cell_type": "code",
      "metadata": {
        "id": "a-QG6tFE5bsG",
        "colab_type": "code",
        "colab": {}
      },
      "source": [
        "import pandas as pd\n",
        "import string, re, nltk\n",
        "from nltk.corpus import wordnet\n",
        "from nltk.stem import WordNetLemmatizer\n",
        "from nltk.corpus import stopwords\n",
        "\n",
        "def getPOS(word):\n",
        "    tag = nltk.pos_tag([word])[0][1][0].upper()#xác định loại từ\n",
        "    tag_dict = {\"J\": wordnet.ADJ,\n",
        "                \"N\": wordnet.NOUN,\n",
        "                \"V\": wordnet.VERB,\n",
        "                \"R\": wordnet.ADV}\n",
        "    return tag_dict.get(tag, wordnet.NOUN) #trả về dưới dạng danh từ\n",
        "\n",
        "path = \"./input/\"\n",
        "input = pd.read_json(path + 'Sarcasm_Headlines_Dataset.json', lines=True)\n",
        "input = input.drop(columns = [\"article_link\"])\n",
        "\n",
        "lemmatizer = WordNetLemmatizer()\n",
        "headlinesPP = []\n",
        "for index, row in input.iterrows():\n",
        "    row[\"headline\"] = row[\"headline\"].translate(str.maketrans('', '', string.punctuation)) #Loại bỏ dấu câu\n",
        "    row[\"headline\"] = row[\"headline\"].translate(str.maketrans('', '', string.digits)) #Loại bỏ kí tự số\n",
        "    #row[\"headline\"] = ' '.join([word for word in row[\"headline\"].split() if word not in (stopwords.words('english'))])#loại bỏ stopwords\n",
        "    tokenList = re.sub(\"[^\\S]\", \" \",  row[\"headline\"]).split() #tách chuỗi thành các token\n",
        "    #tokenList = nltk.word_tokenize(row[\"headline\"])\n",
        "    for i in range(0, len(tokenList)): #lemmatization\n",
        "        tokenList[i] = lemmatizer.lemmatize(tokenList[i], getPOS(tokenList[i]))#chuyển từ về dạng nguyên mẫu\n",
        "    headlinesPP.append(tokenList)\n",
        "dataPP = pd.DataFrame(data = {'headline': headlinesPP, 'is_sarcastic': input[\"is_sarcastic\"]} )\n",
        "dataPP.to_csv(path+'dataPostProcessed.csv')"
      ],
      "execution_count": 49,
      "outputs": []
    },
    {
      "cell_type": "code",
      "metadata": {
        "id": "Uae8_s5eDlfY",
        "colab_type": "code",
        "colab": {
          "base_uri": "https://localhost:8080/",
          "height": 1000
        },
        "outputId": "24335982-0426-4ae5-8c1e-1dcee14500bd"
      },
      "source": [
        "import pandas as pd\n",
        "from sklearn.pipeline import Pipeline\n",
        "from sklearn.feature_extraction.text import TfidfVectorizer\n",
        "from sklearn.svm import LinearSVC\n",
        "from sklearn.neural_network import MLPClassifier\n",
        "from sklearn.ensemble import RandomForestClassifier\n",
        "from sklearn.metrics import confusion_matrix, classification_report\n",
        "from sklearn.neighbors import KNeighborsClassifier\n",
        "from sklearn import metrics\n",
        "\n",
        "path = \"./input/\"\n",
        "input = pd.read_csv(path + 'dataPostProcessed.csv', index_col=0)\n",
        "\n",
        "from sklearn.model_selection import train_test_split\n",
        "X = input['headline']#.append(df['headline'])\n",
        "Y = input['is_sarcastic']#.append(df['is_sarcastic'])\n",
        "\n",
        "xTrain, xTest, yTrain, yTest = train_test_split(X, Y, test_size=0.1)\n",
        "print(\"*** DATASET PARTITIONED IN TRAIN: \"+str(len(xTrain))+ \" TEST: \"+str(len(xTest)))\n",
        "classifiers = [\n",
        "    Pipeline([('tfidf', TfidfVectorizer()), ('classifier', LinearSVC())]),\n",
        "    Pipeline([('tfidf', TfidfVectorizer()), ('classifier', MLPClassifier(hidden_layer_sizes=(90,90), random_state=42, solver='lbfgs'))]),\n",
        "    Pipeline([('tfidf', TfidfVectorizer()), ('classifier', RandomForestClassifier())]),\n",
        "    Pipeline([('tfidf', TfidfVectorizer()), ('classifier', KNeighborsClassifier(n_neighbors=2))]),\n",
        "    ]\n",
        "print(xTest)\n",
        "for classifier in classifiers:\n",
        "    classifier.fit(xTrain, yTrain)\n",
        "    print(\"###### \" + classifier.named_steps.get(\"classifier\").__class__.__name__ + \" ############\")\n",
        "    print(\"\\nTraining: \" + str(classifier.score(xTrain, yTrain).round(3)))\n",
        "    print(\"Test: \" + str(classifier.score(xTest, yTest).round(3)) +\"\\n\")\n",
        "    prediction = classifier.predict(xTest)\n",
        "    #print(confusion_matrix(yTest, prediction))\n",
        "    print(classification_report(yTest, prediction))\n",
        "    print(metrics.accuracy_score(yTest, prediction))\n",
        "    prediction1 = classifier.predict( ['mom start fear son web series closest thing grandchild'])\n",
        "    print(prediction1)\n",
        "\n"
      ],
      "execution_count": 61,
      "outputs": [
        {
          "output_type": "stream",
          "text": [
            "*** DATASET PARTITIONED IN TRAIN: 24038 TEST: 2671\n",
            "12196    ['personal', 'trainer', 'impressed', 'by', 'ma...\n",
            "10987    ['horde', 'of', 'orange', 'monster', 'exit', '...\n",
            "625      ['why', 'company', 'shouldnt', 'hide', 'the', ...\n",
            "6750     ['bore', 'gop', 'vet', 'rand', 'paul', 'just',...\n",
            "26577    ['the', 'top', 'tip', 'for', 'a', 'well', 'nig...\n",
            "                               ...                        \n",
            "25460    ['u', 'should', 'host', 'world', 'cup', 'not',...\n",
            "26374    ['mattis', 'tillerson', 'want', 'blank', 'chec...\n",
            "10305    ['republican', 'ask', 'for', 'obamacare', 'hor...\n",
            "21803    ['how', 'my', 'latino', 'family', 'do', 'chris...\n",
            "6129     ['empty', 'yogurt', 'cup', 'completes', 'table...\n",
            "Name: headline, Length: 2671, dtype: object\n",
            "###### LinearSVC ############\n",
            "\n",
            "Training: 0.969\n",
            "Test: 0.835\n",
            "\n",
            "              precision    recall  f1-score   support\n",
            "\n",
            "           0       0.85      0.86      0.86      1531\n",
            "           1       0.81      0.80      0.81      1140\n",
            "\n",
            "    accuracy                           0.83      2671\n",
            "   macro avg       0.83      0.83      0.83      2671\n",
            "weighted avg       0.83      0.83      0.83      2671\n",
            "\n",
            "0.8348932983901161\n",
            "[1]\n",
            "###### MLPClassifier ############\n",
            "\n",
            "Training: 0.823\n",
            "Test: 0.791\n",
            "\n",
            "              precision    recall  f1-score   support\n",
            "\n",
            "           0       0.83      0.80      0.82      1531\n",
            "           1       0.75      0.77      0.76      1140\n",
            "\n",
            "    accuracy                           0.79      2671\n",
            "   macro avg       0.79      0.79      0.79      2671\n",
            "weighted avg       0.79      0.79      0.79      2671\n",
            "\n",
            "0.7907150879820292\n",
            "[1]\n",
            "###### RandomForestClassifier ############\n",
            "\n",
            "Training: 1.0\n",
            "Test: 0.804\n",
            "\n",
            "              precision    recall  f1-score   support\n",
            "\n",
            "           0       0.82      0.84      0.83      1531\n",
            "           1       0.78      0.76      0.77      1140\n",
            "\n",
            "    accuracy                           0.80      2671\n",
            "   macro avg       0.80      0.80      0.80      2671\n",
            "weighted avg       0.80      0.80      0.80      2671\n",
            "\n",
            "0.804193186072632\n",
            "[0]\n",
            "###### KNeighborsClassifier ############\n",
            "\n",
            "Training: 0.824\n",
            "Test: 0.68\n",
            "\n",
            "              precision    recall  f1-score   support\n",
            "\n",
            "           0       0.65      0.94      0.77      1531\n",
            "           1       0.80      0.34      0.47      1140\n",
            "\n",
            "    accuracy                           0.68      2671\n",
            "   macro avg       0.73      0.64      0.62      2671\n",
            "weighted avg       0.72      0.68      0.64      2671\n",
            "\n",
            "0.6802695619618121\n",
            "[0]\n"
          ],
          "name": "stdout"
        }
      ]
    }
  ]
}